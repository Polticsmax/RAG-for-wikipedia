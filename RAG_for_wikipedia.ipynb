{
  "nbformat": 4,
  "nbformat_minor": 0,
  "metadata": {
    "colab": {
      "provenance": [],
      "authorship_tag": "ABX9TyME73BQGpxbbOCG+99Qsr2p",
      "include_colab_link": true
    },
    "kernelspec": {
      "name": "python3",
      "display_name": "Python 3"
    },
    "language_info": {
      "name": "python"
    }
  },
  "cells": [
    {
      "cell_type": "markdown",
      "metadata": {
        "id": "view-in-github",
        "colab_type": "text"
      },
      "source": [
        "<a href=\"https://colab.research.google.com/github/Polticsmax/RAG-for-wikipedia/blob/main/RAG_for_wikipedia.ipynb\" target=\"_parent\"><img src=\"https://colab.research.google.com/assets/colab-badge.svg\" alt=\"Open In Colab\"/></a>"
      ]
    },
    {
      "cell_type": "markdown",
      "metadata": {
        "id": "b2efe0ac"
      },
      "source": [
        "I'll add a cell to install the `wikipedia` library."
      ]
    },
    {
      "cell_type": "code",
      "metadata": {
        "colab": {
          "base_uri": "https://localhost:8080/"
        },
        "id": "4b2818f0",
        "outputId": "6615b95b-d7e7-49be-9640-b7497aa6624e"
      },
      "source": [
        "!pip install wikipedia"
      ],
      "execution_count": 1,
      "outputs": [
        {
          "output_type": "stream",
          "name": "stdout",
          "text": [
            "Collecting wikipedia\n",
            "  Downloading wikipedia-1.4.0.tar.gz (27 kB)\n",
            "  Preparing metadata (setup.py) ... \u001b[?25l\u001b[?25hdone\n",
            "Requirement already satisfied: beautifulsoup4 in /usr/local/lib/python3.11/dist-packages (from wikipedia) (4.13.4)\n",
            "Requirement already satisfied: requests<3.0.0,>=2.0.0 in /usr/local/lib/python3.11/dist-packages (from wikipedia) (2.32.3)\n",
            "Requirement already satisfied: charset-normalizer<4,>=2 in /usr/local/lib/python3.11/dist-packages (from requests<3.0.0,>=2.0.0->wikipedia) (3.4.2)\n",
            "Requirement already satisfied: idna<4,>=2.5 in /usr/local/lib/python3.11/dist-packages (from requests<3.0.0,>=2.0.0->wikipedia) (3.10)\n",
            "Requirement already satisfied: urllib3<3,>=1.21.1 in /usr/local/lib/python3.11/dist-packages (from requests<3.0.0,>=2.0.0->wikipedia) (2.5.0)\n",
            "Requirement already satisfied: certifi>=2017.4.17 in /usr/local/lib/python3.11/dist-packages (from requests<3.0.0,>=2.0.0->wikipedia) (2025.7.14)\n",
            "Requirement already satisfied: soupsieve>1.2 in /usr/local/lib/python3.11/dist-packages (from beautifulsoup4->wikipedia) (2.7)\n",
            "Requirement already satisfied: typing-extensions>=4.0.0 in /usr/local/lib/python3.11/dist-packages (from beautifulsoup4->wikipedia) (4.14.1)\n",
            "Building wheels for collected packages: wikipedia\n",
            "  Building wheel for wikipedia (setup.py) ... \u001b[?25l\u001b[?25hdone\n",
            "  Created wheel for wikipedia: filename=wikipedia-1.4.0-py3-none-any.whl size=11678 sha256=1529ce35d76550d4a5c4ab22370c207ef490506d96cc3107ec68e69b6f0bc0ad\n",
            "  Stored in directory: /root/.cache/pip/wheels/8f/ab/cb/45ccc40522d3a1c41e1d2ad53b8f33a62f394011ec38cd71c6\n",
            "Successfully built wikipedia\n",
            "Installing collected packages: wikipedia\n",
            "Successfully installed wikipedia-1.4.0\n"
          ]
        }
      ]
    },
    {
      "cell_type": "code",
      "source": [],
      "metadata": {
        "id": "gp2V9ODp_oUE"
      },
      "execution_count": 1,
      "outputs": []
    },
    {
      "cell_type": "markdown",
      "metadata": {
        "id": "94c3de4d"
      },
      "source": [
        "I'll add a cell to install the `faiss` library."
      ]
    },
    {
      "cell_type": "code",
      "metadata": {
        "colab": {
          "base_uri": "https://localhost:8080/"
        },
        "id": "9189e316",
        "outputId": "381e0bf2-c81e-4be9-f9fc-847b5c7e4885"
      },
      "source": [
        "!pip install faiss-cpu"
      ],
      "execution_count": 2,
      "outputs": [
        {
          "output_type": "stream",
          "name": "stdout",
          "text": [
            "Collecting faiss-cpu\n",
            "  Downloading faiss_cpu-1.11.0.post1-cp311-cp311-manylinux_2_27_x86_64.manylinux_2_28_x86_64.whl.metadata (5.0 kB)\n",
            "Requirement already satisfied: numpy<3.0,>=1.25.0 in /usr/local/lib/python3.11/dist-packages (from faiss-cpu) (2.0.2)\n",
            "Requirement already satisfied: packaging in /usr/local/lib/python3.11/dist-packages (from faiss-cpu) (25.0)\n",
            "Downloading faiss_cpu-1.11.0.post1-cp311-cp311-manylinux_2_27_x86_64.manylinux_2_28_x86_64.whl (31.3 MB)\n",
            "\u001b[2K   \u001b[90m━━━━━━━━━━━━━━━━━━━━━━━━━━━━━━━━━━━━━━━━\u001b[0m \u001b[32m31.3/31.3 MB\u001b[0m \u001b[31m59.0 MB/s\u001b[0m eta \u001b[36m0:00:00\u001b[0m\n",
            "\u001b[?25hInstalling collected packages: faiss-cpu\n",
            "Successfully installed faiss-cpu-1.11.0.post1\n"
          ]
        }
      ]
    },
    {
      "cell_type": "code",
      "source": [
        "\n",
        "import numpy as np"
      ],
      "metadata": {
        "id": "bFbg6Zk2ADhT"
      },
      "execution_count": 3,
      "outputs": []
    },
    {
      "cell_type": "code",
      "source": [
        "from transformers import AutoTokenizer, AutoModelForQuestionAnswering, pipeline\n",
        "from sentence_transformers import SentenceTransformer\n"
      ],
      "metadata": {
        "id": "VUIyFCCKAF0t"
      },
      "execution_count": 4,
      "outputs": []
    },
    {
      "cell_type": "code",
      "source": [
        "import wikipedia\n",
        "\n",
        "def get_wikipedia_content(topic):\n",
        "    try:\n",
        "        page = wikipedia.page(topic)\n",
        "        return page.content\n",
        "    except wikipedia.exceptions.PageError:\n",
        "        return None\n",
        "    except wikipedia.exceptions.DisambiguationError as e:\n",
        "        # handle cases where the topic is ambiguous\n",
        "        print(f\"Ambiguous topic. Please be more specific. Options: {e.options}\")\n",
        "        return None\n",
        "\n",
        "# user input\n",
        "topic = input(\"Enter a topic to learn about: \")\n",
        "document = get_wikipedia_content(topic)\n",
        "\n",
        "if not document:\n",
        "    print(\"Could not retrieve information.\")\n",
        "    exit()"
      ],
      "metadata": {
        "colab": {
          "base_uri": "https://localhost:8080/"
        },
        "id": "vVqwipINBMZX",
        "outputId": "ffaf03c0-7652-4054-fed2-5afe5c462d0f"
      },
      "execution_count": 10,
      "outputs": [
        {
          "name": "stdout",
          "output_type": "stream",
          "text": [
            "Enter a topic to learn about: BJP\n"
          ]
        }
      ]
    },
    {
      "cell_type": "code",
      "source": [
        "tokenizer = AutoTokenizer.from_pretrained(\"sentence-transformers/all-mpnet-base-v2\")\n",
        "\n",
        "def split_text(text, chunk_size=256, chunk_overlap=20):\n",
        "    tokens = tokenizer.tokenize(text)\n",
        "    chunks = []\n",
        "    start = 0\n",
        "    while start < len(tokens):\n",
        "        end = min(start + chunk_size, len(tokens))\n",
        "        chunks.append(tokenizer.convert_tokens_to_string(tokens[start:end]))\n",
        "        if end == len(tokens):\n",
        "            break\n",
        "        start = end - chunk_overlap\n",
        "    return chunks\n",
        "\n",
        "chunks = split_text(document)\n",
        "print(f\"Number of chunks: {len(chunks)}\")"
      ],
      "metadata": {
        "colab": {
          "base_uri": "https://localhost:8080/"
        },
        "id": "UhA-ACAvBVzL",
        "outputId": "7e0c726b-2e8c-484d-e0f8-46c73042ccaf"
      },
      "execution_count": 11,
      "outputs": [
        {
          "output_type": "stream",
          "name": "stderr",
          "text": [
            "Token indices sequence length is longer than the specified maximum sequence length for this model (9020 > 512). Running this sequence through the model will result in indexing errors\n"
          ]
        },
        {
          "output_type": "stream",
          "name": "stdout",
          "text": [
            "Number of chunks: 39\n"
          ]
        }
      ]
    },
    {
      "cell_type": "code",
      "source": [
        "import faiss\n",
        "embedding_model = SentenceTransformer(\"sentence-transformers/all-mpnet-base-v2\")\n",
        "embeddings = embedding_model.encode(chunks)\n",
        "\n",
        "dimension = embeddings.shape[1]\n",
        "index = faiss.IndexFlatL2(dimension)\n",
        "index.add(np.array(embeddings))"
      ],
      "metadata": {
        "id": "FheyxSfIhWlf"
      },
      "execution_count": 12,
      "outputs": []
    },
    {
      "cell_type": "code",
      "source": [
        "query = input(\"Ask a question about the topic: \")\n",
        "query_embedding = embedding_model.encode([query])\n",
        "\n",
        "k = 3\n",
        "distances, indices = index.search(np.array(query_embedding), k)\n",
        "retrieved_chunks = [chunks[i] for i in indices[0]]\n",
        "print(\"Retrieved chunks:\")\n",
        "for chunk in retrieved_chunks:\n",
        "    print(\"- \" + chunk)"
      ],
      "metadata": {
        "colab": {
          "base_uri": "https://localhost:8080/"
        },
        "id": "2LZfjsz3ixYf",
        "outputId": "b4f59784-3b24-492d-d840-28f2a7218e35"
      },
      "execution_count": 13,
      "outputs": [
        {
          "output_type": "stream",
          "name": "stdout",
          "text": [
            "Ask a question about the topic: bjp 2024 election results\n",
            "Retrieved chunks:\n",
            "- won 282 seats, leading the nda to a tally of 336 seats in the 543 - seat lok sabha. narendra modi was sworn in as the 14th prime minister of india on 26 may 2014. the vote share of the bjp was 31 % of all votes cast, a low figure relative to the number of seats it won. this was the first instance since 1984 of a single party achieving an outright majority in the indian parliament and the first time that it achieved a majority in the lok sabha on its own strength. support was concentrated in the hindi - speaking belt in northcentral india. the magnitude of the victory was not predicted by most opinion and exit polls. political analysts have suggested several reasons for this victory, including the popularity of modi, and the loss of support for the congress due to the corruption scandals in its previous term. the bjp was also able to expand its traditionally upper - caste, upper - class support base and received significant support from middle - class and dalit people, as well as among other backward classes. its support among muslims remained low ; only 8 % of muslim voters voted for the bjp. the bjp was also very successful at mobilizing its supporters and raising voter turnout among them. after winning the election, the organisation of the\n",
            "- s campaign was based on the slogan \" india shining \", which sought to depict it as responsible for a rapid economic transformation of the country. however, the nda unexpectedly suffered a heavy defeat, winning only 186 seats in the lok sabha, compared to the 222 seats of the congress and its allies. manmohan singh succeeded vajpayee as prime minister as the head of the united progressive alliance. the nda ' s failure to reach out to rural indians was provided as an explanation for its defeat, as was its divisive policy agenda. in may 2008, the bjp won the state elections in karnataka. this was the first time that the party won assembly elections in any south indian state. in the 2009 general elections, its strength in the lok sabha was reduced to 116 seats. the election campaign would be the final for advani as leader. the party would be led by arun jaitley in the rajya sabha and sushma swaraj in the lok sabha for the following 5 years. it lost the karnataka assembly election in 2013. = = = modi era ( 2014 – present ) = = = in the 2014 indian general election, the bjp won 282 seats, leading the nda to a tally of 336 seats in the 543 - seat\n",
            "- reading = = = = external links = = bjp. org bjp web resources provided by govpubs at the university of colorado boulder libraries works by or about bharatiya janata party at the internet archive bharatiya janata party at the encyclopædia britannica\n"
          ]
        }
      ]
    },
    {
      "cell_type": "code",
      "source": [
        "qa_model_name = \"deepset/roberta-base-squad2\"\n",
        "qa_tokenizer = AutoTokenizer.from_pretrained(qa_model_name)\n",
        "qa_model = AutoModelForQuestionAnswering.from_pretrained(qa_model_name)\n",
        "qa_pipeline = pipeline(\"question-answering\", model=qa_model, tokenizer=qa_tokenizer)\n",
        "\n",
        "context = \" \".join(retrieved_chunks)\n",
        "answer = qa_pipeline(question=query, context=context)\n",
        "print(f\"Answer: {answer['answer']}\")"
      ],
      "metadata": {
        "colab": {
          "base_uri": "https://localhost:8080/"
        },
        "id": "IxoZHVS0k2LT",
        "outputId": "61ad2b66-6171-48ad-80e1-524326be2932"
      },
      "execution_count": 14,
      "outputs": [
        {
          "output_type": "stream",
          "name": "stderr",
          "text": [
            "Device set to use cpu\n"
          ]
        },
        {
          "output_type": "stream",
          "name": "stdout",
          "text": [
            "Answer: failure to reach out to rural indians\n"
          ]
        }
      ]
    },
    {
      "cell_type": "code",
      "source": [],
      "metadata": {
        "id": "Ce66Y1phlCqv"
      },
      "execution_count": 9,
      "outputs": []
    }
  ]
}